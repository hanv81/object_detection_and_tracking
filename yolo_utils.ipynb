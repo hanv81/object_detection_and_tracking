{
 "cells": [
  {
   "cell_type": "code",
   "execution_count": null,
   "metadata": {},
   "outputs": [],
   "source": [
    "!py \"..\\yolov5\\detect.py\" --weights model.pt --img 416 --conf 0.75 --source ."
   ]
  },
  {
   "cell_type": "code",
   "execution_count": 1,
   "metadata": {},
   "outputs": [
    {
     "name": "stdout",
     "output_type": "stream",
     "text": [
      "[ INFO ] The model was converted to IR v11, the latest model format that corresponds to the source DL framework input/output format. While IR v11 is backwards compatible with OpenVINO Inference Engine API v1.0, please use API v2.0 (as of 2022.1) to take advantage of the latest improvements in IR v11.\n",
      "Find more information about API v2.0 and IR v11 at https://docs.openvino.ai/latest/openvino_2_0_transition_guide.html\n",
      "[ SUCCESS ] Generated IR version 11 model.\n",
      "[ SUCCESS ] XML file: d:\\STUDY\\AI\\CODE\\object_detection_and_tracking\\yolov5s_openvino_model\\yolov5s.xml\n",
      "[ SUCCESS ] BIN file: d:\\STUDY\\AI\\CODE\\object_detection_and_tracking\\yolov5s_openvino_model\\yolov5s.bin\n"
     ]
    },
    {
     "name": "stderr",
     "output_type": "stream",
     "text": [
      "\u001b[34m\u001b[1mexport: \u001b[0mdata=D:\\STUDY\\AI\\CODE\\yolov5\\data\\coco128.yaml, weights=['yolov5s.pt'], imgsz=[416], batch_size=1, device=cpu, half=False, inplace=False, keras=False, optimize=False, int8=False, dynamic=False, simplify=True, opset=17, verbose=False, workspace=4, nms=False, agnostic_nms=False, topk_per_class=100, topk_all=100, iou_thres=0.45, conf_thres=0.25, include=['openvino']\n",
      "YOLOv5  v7.0-53-g65071da Python-3.9.5 torch-1.13.0+cpu CPU\n",
      "\n",
      "Fusing layers... \n",
      "YOLOv5s summary: 213 layers, 7225885 parameters, 0 gradients\n",
      "\n",
      "\u001b[34m\u001b[1mPyTorch:\u001b[0m starting from yolov5s.pt with output shape (1, 10647, 85) (14.1 MB)\n",
      "\n",
      "\u001b[34m\u001b[1mONNX:\u001b[0m starting export with onnx 1.13.0...\n",
      "\u001b[34m\u001b[1mONNX:\u001b[0m simplifying with onnx-simplifier 0.4.13...\n",
      "\u001b[34m\u001b[1mONNX:\u001b[0m export success  4.1s, saved as yolov5s.onnx (27.8 MB)\n",
      "\n",
      "\u001b[34m\u001b[1mOpenVINO:\u001b[0m starting export with openvino 2022.3.0-9052-9752fafe8eb-releases/2022/3...\n",
      "[ WARNING ]  Use of deprecated cli option --data_type detected. Option use in the following releases will be fatal. \n",
      "\u001b[34m\u001b[1mOpenVINO:\u001b[0m export success  7.6s, saved as yolov5s_openvino_model\\ (28.0 MB)\n",
      "\n",
      "Export complete (13.0s)\n",
      "Results saved to \u001b[1mD:\\STUDY\\AI\\CODE\\object_detection_and_tracking\u001b[0m\n",
      "Detect:          python detect.py --weights yolov5s_openvino_model\\ \n",
      "Validate:        python val.py --weights yolov5s_openvino_model\\ \n",
      "PyTorch Hub:     model = torch.hub.load('ultralytics/yolov5', 'custom', 'yolov5s_openvino_model\\')  \n",
      "Visualize:       https://netron.app\n"
     ]
    }
   ],
   "source": [
    "!py \"..\\yolov5\\export.py\" --weights yolov5s.pt --img 416 --device \"cpu\" --simplify --include openvino"
   ]
  }
 ],
 "metadata": {
  "kernelspec": {
   "display_name": "Python 3",
   "language": "python",
   "name": "python3"
  },
  "language_info": {
   "codemirror_mode": {
    "name": "ipython",
    "version": 3
   },
   "file_extension": ".py",
   "mimetype": "text/x-python",
   "name": "python",
   "nbconvert_exporter": "python",
   "pygments_lexer": "ipython3",
   "version": "3.9.5"
  },
  "orig_nbformat": 4,
  "vscode": {
   "interpreter": {
    "hash": "f6246b25e200e4c5124e3e61789ac81350562f0761bbcf92ad9e48654207659c"
   }
  }
 },
 "nbformat": 4,
 "nbformat_minor": 2
}
